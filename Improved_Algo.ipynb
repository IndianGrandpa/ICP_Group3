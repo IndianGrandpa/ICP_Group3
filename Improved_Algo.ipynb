{
 "cells": [
  {
   "cell_type": "code",
   "execution_count": 2,
   "id": "535899d1",
   "metadata": {},
   "outputs": [
    {
     "name": "stderr",
     "output_type": "stream",
     "text": [
      "<frozen importlib._bootstrap>:219: RuntimeWarning: scipy._lib.messagestream.MessageStream size changed, may indicate binary incompatibility. Expected 56 from C header, got 64 from PyObject\n"
     ]
    }
   ],
   "source": [
    "from snowflake.snowpark.session import Session\n",
    "import snowflake.snowpark.functions as F\n",
    "import snowflake.snowpark.types as T\n",
    "from snowflake.snowpark.window import Window\n",
    "from sklearn import preprocessing # https://github.com/Snowflake-Labs/snowpark-python-demos/tree/main/sp4py_utilities\n",
    "from snowflake.snowpark.functions import col\n",
    "\n",
    "import getpass\n",
    "import pandas as pd\n",
    "import matplotlib.pyplot as plt\n",
    "import decimal\n",
    "import joblib "
   ]
  },
  {
   "cell_type": "code",
   "execution_count": 3,
   "id": "b4866f17",
   "metadata": {},
   "outputs": [],
   "source": [
    "accountname =  \"ex39201.ap-southeast-1\"# ORGNAME-ACCOUNTNAME (separated by minus sign)\n",
    "username = \"Vibu\"    # SNOWFLAKE-USERNAME\n",
    "password = \"s10222756B\"   # SNOWFLAKE-PASSWORD"
   ]
  },
  {
   "cell_type": "code",
   "execution_count": 4,
   "id": "e2035ecb",
   "metadata": {},
   "outputs": [],
   "source": [
    "connection_parameters = {\n",
    "    \"account\": accountname,\n",
    "    \"user\": username,\n",
    "    \"password\": password,\n",
    "    \"role\": \"ACCOUNTADMIN\",\n",
    "    \"database\": \"FROSTBYTE_TASTY_BYTES\",\n",
    "\n",
    "    \"warehouse\": \"TASTY_DE_WH\"\n",
    "}\n",
    "\n",
    "session = Session.builder.configs(connection_parameters).create()"
   ]
  },
  {
   "cell_type": "code",
   "execution_count": 26,
   "id": "9b800068",
   "metadata": {},
   "outputs": [],
   "source": [
    "to_encode_df = session.table('ANALYTICS.SALES_PREDICTION')"
   ]
  },
  {
   "cell_type": "code",
   "execution_count": 38,
   "id": "8cae0206",
   "metadata": {},
   "outputs": [],
   "source": [
    "columns_to_drop = ['\"r_uwp5_LOCATION_ID\"','\"l_99ts_COUNTRY\"','\"l_w5i8_POSTAL_CODE\"','\"r_a073_POSTAL_CODE\"','\"r_a073_COUNTRY\"','\"r_a073_DATE\"'] #'r_ipsj' keys changes everytime file is run\n",
    "new_columns  = [c for c in to_encode_df.columns if c not in columns_to_drop]\n",
    "dropped_df = to_encode_df.select(*new_columns)"
   ]
  },
  {
   "cell_type": "code",
   "execution_count": 39,
   "id": "1996736b",
   "metadata": {},
   "outputs": [
    {
     "name": "stdout",
     "output_type": "stream",
     "text": [
      "-------------------------------------------------------------------------------------------------------------------------------------------------------------------------------------------------------------------------------------------------------------------------------------------------------------------------------------------------------------------------------------------------------------------------\n",
      "|\"l_w5i8_DATE\"  |\"TRUCK_ID\"  |\"MONTH\"  |\"HOUR\"  |\"DOW\"  |\"DAY\"  |\"MENU_TYPE\"  |\"l_c6x2_LOCATION_ID\"  |\"PUBLIC_HOLIDAY\"  |\"SUM(ORDER_TOTAL)\"  |\"LOCATION\"         |\"CITY\"         |\"REGION\"  |\"l_w5i8_COUNTRY\"  |\"LAT\"               |\"LONG\"               |\"AVG_TEMPERATURE_AIR_2M_F\"  |\"AVG_TEMPERATURE_HEATINDEX_2M_F\"  |\"TOT_PRECIPITATION_IN\"  |\"TOT_SNOWFALL_IN\"  |\"TOT_SNOWDEPTH_IN\"  |\"AVG_CLOUD_COVER_TOT_PCT\"  |\n",
      "-------------------------------------------------------------------------------------------------------------------------------------------------------------------------------------------------------------------------------------------------------------------------------------------------------------------------------------------------------------------------------------------------------------------------\n",
      "|2021-07-18     |70          |7        |10      |0      |18     |Hot Dogs     |2980                  |0                 |15369.0             |Dribbl Basketball  |New York City  |NY        |United States     |40.7795067390542    |-73.95323502613428   |77.3                        |79.6                              |0.07                    |0.0                |0.0                 |87.0                       |\n",
      "|2021-07-18     |70          |7        |14      |0      |18     |Hot Dogs     |2980                  |0                 |4893.0              |Dribbl Basketball  |New York City  |NY        |United States     |40.7795067390542    |-73.95323502613428   |77.3                        |79.6                              |0.07                    |0.0                |0.0                 |87.0                       |\n",
      "|2021-07-18     |70          |7        |9       |0      |18     |Hot Dogs     |2980                  |0                 |10219.0             |Dribbl Basketball  |New York City  |NY        |United States     |40.7795067390542    |-73.95323502613428   |77.3                        |79.6                              |0.07                    |0.0                |0.0                 |87.0                       |\n",
      "|2021-07-18     |70          |7        |11      |0      |18     |Hot Dogs     |2980                  |0                 |12110.0             |Dribbl Basketball  |New York City  |NY        |United States     |40.7795067390542    |-73.95323502613428   |77.3                        |79.6                              |0.07                    |0.0                |0.0                 |87.0                       |\n",
      "|2021-07-18     |70          |7        |13      |0      |18     |Hot Dogs     |2980                  |0                 |10938.0             |Dribbl Basketball  |New York City  |NY        |United States     |40.7795067390542    |-73.95323502613428   |77.3                        |79.6                              |0.07                    |0.0                |0.0                 |87.0                       |\n",
      "|2021-07-18     |70          |7        |8       |0      |18     |Hot Dogs     |2980                  |0                 |7516.0              |Dribbl Basketball  |New York City  |NY        |United States     |40.7795067390542    |-73.95323502613428   |77.3                        |79.6                              |0.07                    |0.0                |0.0                 |87.0                       |\n",
      "|2021-07-18     |70          |7        |12      |0      |18     |Hot Dogs     |2980                  |0                 |12050.0             |Dribbl Basketball  |New York City  |NY        |United States     |40.7795067390542    |-73.95323502613428   |77.3                        |79.6                              |0.07                    |0.0                |0.0                 |87.0                       |\n",
      "|2022-02-21     |31          |2        |17      |1      |21     |Ice Cream    |2290                  |0                 |2941.5              |Meril Gardens      |Seattle        |WA        |United States     |47.561637604898166  |-122.37669848186029  |37.7                        |37.7                              |0.02                    |0.0                |0.0                 |98.0                       |\n",
      "|2022-02-21     |31          |2        |18      |1      |21     |Ice Cream    |2290                  |0                 |2571.0              |Meril Gardens      |Seattle        |WA        |United States     |47.561637604898166  |-122.37669848186029  |37.7                        |37.7                              |0.02                    |0.0                |0.0                 |98.0                       |\n",
      "|2022-02-21     |31          |2        |15      |1      |21     |Ice Cream    |2290                  |0                 |809.5               |Meril Gardens      |Seattle        |WA        |United States     |47.561637604898166  |-122.37669848186029  |37.7                        |37.7                              |0.02                    |0.0                |0.0                 |98.0                       |\n",
      "-------------------------------------------------------------------------------------------------------------------------------------------------------------------------------------------------------------------------------------------------------------------------------------------------------------------------------------------------------------------------------------------------------------------------\n",
      "\n"
     ]
    }
   ],
   "source": [
    "dropped_df.show()"
   ]
  },
  {
   "cell_type": "code",
   "execution_count": 60,
   "id": "f987a6d8",
   "metadata": {},
   "outputs": [],
   "source": [
    "mdf=session.sql(\"Select * from ANALYTICS.DEMAND_FORECAST_TRAINING_BASE\")\n",
    "merge_df=dropped_df.join(mdf, (dropped_df['\"l_w5i8_DATE\"'] == mdf[\"DATE\"])& (dropped_df['\"MENU_TYPE\"'] == mdf[\"MENU_TYPE\"])& (dropped_df['\"l_c6x2_LOCATION_ID\"'] == mdf[\"Location_ID\"])).drop('\"l_w5i8_DATE\"').drop('\"l_3iuv_LOCATION_ID\"')\n"
   ]
  },
  {
   "cell_type": "code",
   "execution_count": 55,
   "id": "4baf223b",
   "metadata": {},
   "outputs": [
    {
     "name": "stdout",
     "output_type": "stream",
     "text": [
      "------------------------------------------------------------------------------------------------------------------------------------------------------------------------------------------------------------------------------------------------------------------------------------------------------------------------------------------------------------------------------------------------------------------------------------------------------------------------------------------------------------------------------------------------------\n",
      "|\"TRUCK_ID\"  |\"MONTH\"  |\"HOUR\"  |\"DOW\"  |\"DAY\"  |\"l_mf63_MENU_TYPE\"  |\"l_c6x2_LOCATION_ID\"  |\"PUBLIC_HOLIDAY\"  |\"SUM(ORDER_TOTAL)\"  |\"LOCATION\"         |\"CITY\"         |\"REGION\"  |\"l_w5i8_COUNTRY\"  |\"LAT\"               |\"LONG\"               |\"AVG_TEMPERATURE_AIR_2M_F\"  |\"AVG_TEMPERATURE_HEATINDEX_2M_F\"  |\"TOT_PRECIPITATION_IN\"  |\"TOT_SNOWFALL_IN\"  |\"TOT_SNOWDEPTH_IN\"  |\"AVG_CLOUD_COVER_TOT_PCT\"  |\"DATE\"      |\"LOCATION_ID\"  |\"r_ttg7_MENU_TYPE\"  |\"SUM_DAY_OF_WEEK_AVG_CITY_MENU_TYPE\"  |\"SUM_PREV_YEAR_MONTH_SALES_CITY_MENU_TYPE\"  |\n",
      "------------------------------------------------------------------------------------------------------------------------------------------------------------------------------------------------------------------------------------------------------------------------------------------------------------------------------------------------------------------------------------------------------------------------------------------------------------------------------------------------------------------------------------------------------\n",
      "|70          |7        |10      |0      |18     |Hot Dogs            |2980                  |0                 |15369.0             |Dribbl Basketball  |New York City  |NY        |United States     |40.7795067390542    |-73.95323502613428   |77.3                        |79.6                              |0.07                    |0.0                |0.0                 |87.0                       |2021-07-18  |2980           |Hot Dogs            |22607.38963                           |NULL                                        |\n",
      "|70          |7        |14      |0      |18     |Hot Dogs            |2980                  |0                 |4893.0              |Dribbl Basketball  |New York City  |NY        |United States     |40.7795067390542    |-73.95323502613428   |77.3                        |79.6                              |0.07                    |0.0                |0.0                 |87.0                       |2021-07-18  |2980           |Hot Dogs            |22607.38963                           |NULL                                        |\n",
      "|70          |7        |9       |0      |18     |Hot Dogs            |2980                  |0                 |10219.0             |Dribbl Basketball  |New York City  |NY        |United States     |40.7795067390542    |-73.95323502613428   |77.3                        |79.6                              |0.07                    |0.0                |0.0                 |87.0                       |2021-07-18  |2980           |Hot Dogs            |22607.38963                           |NULL                                        |\n",
      "|70          |7        |11      |0      |18     |Hot Dogs            |2980                  |0                 |12110.0             |Dribbl Basketball  |New York City  |NY        |United States     |40.7795067390542    |-73.95323502613428   |77.3                        |79.6                              |0.07                    |0.0                |0.0                 |87.0                       |2021-07-18  |2980           |Hot Dogs            |22607.38963                           |NULL                                        |\n",
      "|70          |7        |13      |0      |18     |Hot Dogs            |2980                  |0                 |10938.0             |Dribbl Basketball  |New York City  |NY        |United States     |40.7795067390542    |-73.95323502613428   |77.3                        |79.6                              |0.07                    |0.0                |0.0                 |87.0                       |2021-07-18  |2980           |Hot Dogs            |22607.38963                           |NULL                                        |\n",
      "|70          |7        |8       |0      |18     |Hot Dogs            |2980                  |0                 |7516.0              |Dribbl Basketball  |New York City  |NY        |United States     |40.7795067390542    |-73.95323502613428   |77.3                        |79.6                              |0.07                    |0.0                |0.0                 |87.0                       |2021-07-18  |2980           |Hot Dogs            |22607.38963                           |NULL                                        |\n",
      "|70          |7        |12      |0      |18     |Hot Dogs            |2980                  |0                 |12050.0             |Dribbl Basketball  |New York City  |NY        |United States     |40.7795067390542    |-73.95323502613428   |77.3                        |79.6                              |0.07                    |0.0                |0.0                 |87.0                       |2021-07-18  |2980           |Hot Dogs            |22607.38963                           |NULL                                        |\n",
      "|31          |2        |17      |1      |21     |Ice Cream           |2290                  |0                 |2941.5              |Meril Gardens      |Seattle        |WA        |United States     |47.561637604898166  |-122.37669848186029  |37.7                        |37.7                              |0.02                    |0.0                |0.0                 |98.0                       |2022-02-21  |2290           |Ice Cream           |3362.69383                            |1139150.0                                   |\n",
      "|31          |2        |18      |1      |21     |Ice Cream           |2290                  |0                 |2571.0              |Meril Gardens      |Seattle        |WA        |United States     |47.561637604898166  |-122.37669848186029  |37.7                        |37.7                              |0.02                    |0.0                |0.0                 |98.0                       |2022-02-21  |2290           |Ice Cream           |3362.69383                            |1139150.0                                   |\n",
      "|31          |2        |15      |1      |21     |Ice Cream           |2290                  |0                 |809.5               |Meril Gardens      |Seattle        |WA        |United States     |47.561637604898166  |-122.37669848186029  |37.7                        |37.7                              |0.02                    |0.0                |0.0                 |98.0                       |2022-02-21  |2290           |Ice Cream           |3362.69383                            |1139150.0                                   |\n",
      "------------------------------------------------------------------------------------------------------------------------------------------------------------------------------------------------------------------------------------------------------------------------------------------------------------------------------------------------------------------------------------------------------------------------------------------------------------------------------------------------------------------------------------------------------\n",
      "\n"
     ]
    }
   ],
   "source": [
    "merge_df.show()"
   ]
  },
  {
   "cell_type": "code",
   "execution_count": 61,
   "id": "0d7a3e4e",
   "metadata": {},
   "outputs": [],
   "source": [
    "merge_df=merge_df.drop('\"l_w5i8_COUNTRY\"')\n",
    "merge_df = merge_df.drop('\"l_c6x2_LOCATION_ID\"')"
   ]
  },
  {
   "cell_type": "code",
   "execution_count": 62,
   "id": "5fb18b80",
   "metadata": {},
   "outputs": [
    {
     "name": "stdout",
     "output_type": "stream",
     "text": [
      "------------------------------------------------------------------------------------------------------------------------------------------------------------------------------------------------------------------------------------------------------------------------------------------------------------------------------------------------------------------------------------------------------------------------------------------------------------------------------------------------------------\n",
      "|\"TRUCK_ID\"  |\"MONTH\"  |\"HOUR\"  |\"DOW\"  |\"DAY\"  |\"l_aqo3_MENU_TYPE\"  |\"PUBLIC_HOLIDAY\"  |\"SUM(ORDER_TOTAL)\"  |\"LOCATION\"         |\"CITY\"         |\"REGION\"  |\"LAT\"               |\"LONG\"               |\"AVG_TEMPERATURE_AIR_2M_F\"  |\"AVG_TEMPERATURE_HEATINDEX_2M_F\"  |\"TOT_PRECIPITATION_IN\"  |\"TOT_SNOWFALL_IN\"  |\"TOT_SNOWDEPTH_IN\"  |\"AVG_CLOUD_COVER_TOT_PCT\"  |\"DATE\"      |\"LOCATION_ID\"  |\"r_mncm_MENU_TYPE\"  |\"SUM_DAY_OF_WEEK_AVG_CITY_MENU_TYPE\"  |\"SUM_PREV_YEAR_MONTH_SALES_CITY_MENU_TYPE\"  |\n",
      "------------------------------------------------------------------------------------------------------------------------------------------------------------------------------------------------------------------------------------------------------------------------------------------------------------------------------------------------------------------------------------------------------------------------------------------------------------------------------------------------------------\n",
      "|70          |7        |10      |0      |18     |Hot Dogs            |0                 |15369.0             |Dribbl Basketball  |New York City  |NY        |40.7795067390542    |-73.95323502613428   |77.3                        |79.6                              |0.07                    |0.0                |0.0                 |87.0                       |2021-07-18  |2980           |Hot Dogs            |22607.38963                           |NULL                                        |\n",
      "|70          |7        |14      |0      |18     |Hot Dogs            |0                 |4893.0              |Dribbl Basketball  |New York City  |NY        |40.7795067390542    |-73.95323502613428   |77.3                        |79.6                              |0.07                    |0.0                |0.0                 |87.0                       |2021-07-18  |2980           |Hot Dogs            |22607.38963                           |NULL                                        |\n",
      "|70          |7        |9       |0      |18     |Hot Dogs            |0                 |10219.0             |Dribbl Basketball  |New York City  |NY        |40.7795067390542    |-73.95323502613428   |77.3                        |79.6                              |0.07                    |0.0                |0.0                 |87.0                       |2021-07-18  |2980           |Hot Dogs            |22607.38963                           |NULL                                        |\n",
      "|70          |7        |11      |0      |18     |Hot Dogs            |0                 |12110.0             |Dribbl Basketball  |New York City  |NY        |40.7795067390542    |-73.95323502613428   |77.3                        |79.6                              |0.07                    |0.0                |0.0                 |87.0                       |2021-07-18  |2980           |Hot Dogs            |22607.38963                           |NULL                                        |\n",
      "|70          |7        |13      |0      |18     |Hot Dogs            |0                 |10938.0             |Dribbl Basketball  |New York City  |NY        |40.7795067390542    |-73.95323502613428   |77.3                        |79.6                              |0.07                    |0.0                |0.0                 |87.0                       |2021-07-18  |2980           |Hot Dogs            |22607.38963                           |NULL                                        |\n",
      "|70          |7        |8       |0      |18     |Hot Dogs            |0                 |7516.0              |Dribbl Basketball  |New York City  |NY        |40.7795067390542    |-73.95323502613428   |77.3                        |79.6                              |0.07                    |0.0                |0.0                 |87.0                       |2021-07-18  |2980           |Hot Dogs            |22607.38963                           |NULL                                        |\n",
      "|70          |7        |12      |0      |18     |Hot Dogs            |0                 |12050.0             |Dribbl Basketball  |New York City  |NY        |40.7795067390542    |-73.95323502613428   |77.3                        |79.6                              |0.07                    |0.0                |0.0                 |87.0                       |2021-07-18  |2980           |Hot Dogs            |22607.38963                           |NULL                                        |\n",
      "|31          |2        |17      |1      |21     |Ice Cream           |0                 |2941.5              |Meril Gardens      |Seattle        |WA        |47.561637604898166  |-122.37669848186029  |37.7                        |37.7                              |0.02                    |0.0                |0.0                 |98.0                       |2022-02-21  |2290           |Ice Cream           |3362.69383                            |1139150.0                                   |\n",
      "|31          |2        |18      |1      |21     |Ice Cream           |0                 |2571.0              |Meril Gardens      |Seattle        |WA        |47.561637604898166  |-122.37669848186029  |37.7                        |37.7                              |0.02                    |0.0                |0.0                 |98.0                       |2022-02-21  |2290           |Ice Cream           |3362.69383                            |1139150.0                                   |\n",
      "|31          |2        |15      |1      |21     |Ice Cream           |0                 |809.5               |Meril Gardens      |Seattle        |WA        |47.561637604898166  |-122.37669848186029  |37.7                        |37.7                              |0.02                    |0.0                |0.0                 |98.0                       |2022-02-21  |2290           |Ice Cream           |3362.69383                            |1139150.0                                   |\n",
      "------------------------------------------------------------------------------------------------------------------------------------------------------------------------------------------------------------------------------------------------------------------------------------------------------------------------------------------------------------------------------------------------------------------------------------------------------------------------------------------------------------\n",
      "\n"
     ]
    }
   ],
   "source": [
    "merge_df.show()"
   ]
  },
  {
   "cell_type": "code",
   "execution_count": 63,
   "id": "fb36b0bc",
   "metadata": {},
   "outputs": [],
   "source": [
    "\n",
    "merge_df=merge_df.drop('\"r_mncm_MENU_TYPE\"')\n",
    "merge_df = merge_df.withColumnRenamed('\"l_aqo3_MENU_TYPE\"','Menu_Type')\n",
    "\n",
    "\n"
   ]
  },
  {
   "cell_type": "code",
   "execution_count": 67,
   "id": "276e446f",
   "metadata": {},
   "outputs": [],
   "source": [
    "merge_df=merge_df.with_column(\"YEAR\",F.year(merge_df[\"DATE\"]))"
   ]
  },
  {
   "cell_type": "code",
   "execution_count": 68,
   "id": "dd64fd4e",
   "metadata": {},
   "outputs": [],
   "source": [
    "wdf=session.sql(\"Select * from ANALYTICS.WEATHER_DATA_API\")\n",
    "wdf=wdf.withColumn(\"H\",F.substring(wdf[\"TIME\"], 12, 2).cast(\"integer\"))\n",
    "wdf=wdf.withColumn(\"DATE\",F.substring(wdf[\"TIME\"], 0, 10))\n",
    "wdf=wdf.select(\"WEATHERCODE\",\"LOCATION_ID\",\"H\",\"DATE\" )"
   ]
  },
  {
   "cell_type": "code",
   "execution_count": 70,
   "id": "80e04e83",
   "metadata": {},
   "outputs": [],
   "source": [
    "merge_df_api=merge_df.join(wdf,(merge_df[\"DATE\"]==wdf[\"DATE\"])&(merge_df[\"LOCATION_ID\"]==wdf[\"LOCATION_ID\"])&(merge_df[\"HOUR\"]==wdf[\"H\"]),join_type=\"inner\")\n",
    "\n"
   ]
  },
  {
   "cell_type": "code",
   "execution_count": 71,
   "id": "d943c22f",
   "metadata": {},
   "outputs": [
    {
     "name": "stdout",
     "output_type": "stream",
     "text": [
      "---------------------------------------------------------------------------------------------------------------------------------------------------------------------------------------------------------------------------------------------------------------------------------------------------------------------------------------------------------------------------------------------------------------------------------------------------------------------------------------------------------------------------------------------------\n",
      "|\"TRUCK_ID\"  |\"MONTH\"  |\"HOUR\"  |\"DOW\"  |\"DAY\"  |\"MENU_TYPE\"  |\"PUBLIC_HOLIDAY\"  |\"SUM(ORDER_TOTAL)\"  |\"LOCATION\"    |\"CITY\"  |\"REGION\"  |\"LAT\"               |\"LONG\"              |\"AVG_TEMPERATURE_AIR_2M_F\"  |\"AVG_TEMPERATURE_HEATINDEX_2M_F\"  |\"TOT_PRECIPITATION_IN\"  |\"TOT_SNOWFALL_IN\"  |\"TOT_SNOWDEPTH_IN\"  |\"AVG_CLOUD_COVER_TOT_PCT\"  |\"l_5fa3_DATE\"  |\"l_5fa3_LOCATION_ID\"  |\"SUM_DAY_OF_WEEK_AVG_CITY_MENU_TYPE\"  |\"SUM_PREV_YEAR_MONTH_SALES_CITY_MENU_TYPE\"  |\"YEAR\"  |\"WEATHERCODE\"  |\"r_mqgl_LOCATION_ID\"  |\"H\"  |\"r_mqgl_DATE\"  |\n",
      "---------------------------------------------------------------------------------------------------------------------------------------------------------------------------------------------------------------------------------------------------------------------------------------------------------------------------------------------------------------------------------------------------------------------------------------------------------------------------------------------------------------------------------------------------\n",
      "|54          |9        |8       |4      |22     |Ethiopian    |0                 |2839.0              |Umass Boston  |Boston  |MA        |42.312250996199076  |-71.03537984711419  |NULL                        |NULL                              |NULL                    |NULL               |NULL                |NULL                       |2022-09-22     |3766                  |5927.79658                            |NULL                                        |2022    |2              |3766                  |8    |2022-09-22     |\n",
      "|54          |9        |9       |4      |22     |Ethiopian    |0                 |3053.0              |Umass Boston  |Boston  |MA        |42.312250996199076  |-71.03537984711419  |NULL                        |NULL                              |NULL                    |NULL               |NULL                |NULL                       |2022-09-22     |3766                  |5927.79658                            |NULL                                        |2022    |2              |3766                  |9    |2022-09-22     |\n",
      "|54          |9        |10      |4      |22     |Ethiopian    |0                 |2412.0              |Umass Boston  |Boston  |MA        |42.312250996199076  |-71.03537984711419  |NULL                        |NULL                              |NULL                    |NULL               |NULL                |NULL                       |2022-09-22     |3766                  |5927.79658                            |NULL                                        |2022    |1              |3766                  |10   |2022-09-22     |\n",
      "|54          |9        |11      |4      |22     |Ethiopian    |0                 |3295.0              |Umass Boston  |Boston  |MA        |42.312250996199076  |-71.03537984711419  |NULL                        |NULL                              |NULL                    |NULL               |NULL                |NULL                       |2022-09-22     |3766                  |5927.79658                            |NULL                                        |2022    |1              |3766                  |11   |2022-09-22     |\n",
      "|54          |9        |12      |4      |22     |Ethiopian    |0                 |3823.0              |Umass Boston  |Boston  |MA        |42.312250996199076  |-71.03537984711419  |NULL                        |NULL                              |NULL                    |NULL               |NULL                |NULL                       |2022-09-22     |3766                  |5927.79658                            |NULL                                        |2022    |1              |3766                  |12   |2022-09-22     |\n",
      "|54          |9        |13      |4      |22     |Ethiopian    |0                 |3027.0              |Umass Boston  |Boston  |MA        |42.312250996199076  |-71.03537984711419  |NULL                        |NULL                              |NULL                    |NULL               |NULL                |NULL                       |2022-09-22     |3766                  |5927.79658                            |NULL                                        |2022    |2              |3766                  |13   |2022-09-22     |\n",
      "|50          |10       |15      |0      |2      |Ramen        |0                 |594.5               |Umass Boston  |Boston  |MA        |42.312250996199076  |-71.03537984711419  |NULL                        |NULL                              |NULL                    |NULL               |NULL                |NULL                       |2022-10-02     |3766                  |13366.90415                           |2338171.5                                   |2022    |3              |3766                  |15   |2022-10-02     |\n",
      "|50          |10       |16      |0      |2      |Ramen        |0                 |4654.5              |Umass Boston  |Boston  |MA        |42.312250996199076  |-71.03537984711419  |NULL                        |NULL                              |NULL                    |NULL               |NULL                |NULL                       |2022-10-02     |3766                  |13366.90415                           |2338171.5                                   |2022    |1              |3766                  |16   |2022-10-02     |\n",
      "|50          |10       |17      |0      |2      |Ramen        |0                 |5367.75             |Umass Boston  |Boston  |MA        |42.312250996199076  |-71.03537984711419  |NULL                        |NULL                              |NULL                    |NULL               |NULL                |NULL                       |2022-10-02     |3766                  |13366.90415                           |2338171.5                                   |2022    |1              |3766                  |17   |2022-10-02     |\n",
      "|50          |10       |18      |0      |2      |Ramen        |0                 |10153.5             |Umass Boston  |Boston  |MA        |42.312250996199076  |-71.03537984711419  |NULL                        |NULL                              |NULL                    |NULL               |NULL                |NULL                       |2022-10-02     |3766                  |13366.90415                           |2338171.5                                   |2022    |2              |3766                  |18   |2022-10-02     |\n",
      "---------------------------------------------------------------------------------------------------------------------------------------------------------------------------------------------------------------------------------------------------------------------------------------------------------------------------------------------------------------------------------------------------------------------------------------------------------------------------------------------------------------------------------------------------\n",
      "\n"
     ]
    }
   ],
   "source": [
    "merge_df_api.show()"
   ]
  },
  {
   "cell_type": "code",
   "execution_count": 72,
   "id": "4943e32e",
   "metadata": {},
   "outputs": [],
   "source": [
    "merge_df_api=merge_df_api.drop('\"l_5fa3_DATE\"').drop('\"H\"' ).drop('\"r_mqgl_DATE\"').drop('\"r_mqgl_LOCATION_ID\"')\n",
    "merge_df_api=merge_df_api.withColumnRenamed('\"l_5fa3_LOCATION_ID\"',\"Location_id\")"
   ]
  },
  {
   "cell_type": "code",
   "execution_count": 77,
   "id": "b322e92e",
   "metadata": {},
   "outputs": [
    {
     "data": {
      "text/plain": [
       "32"
      ]
     },
     "execution_count": 77,
     "metadata": {},
     "output_type": "execute_result"
    }
   ],
   "source": []
  },
  {
   "cell_type": "code",
   "execution_count": 78,
   "id": "21faee89",
   "metadata": {},
   "outputs": [],
   "source": [
    "decimal.getcontext().prec=2"
   ]
  },
  {
   "cell_type": "code",
   "execution_count": 93,
   "id": "c4799b44",
   "metadata": {},
   "outputs": [],
   "source": [
    "\n",
    "dropped_df=merge_df_api.na.fill({ 'SUM_PREV_YEAR_MONTH_SALES_CITY_MENU_TYPE':(1554821.8032227783)})"
   ]
  },
  {
   "cell_type": "code",
   "execution_count": 94,
   "id": "6aa26728",
   "metadata": {},
   "outputs": [],
   "source": [
    "columns_to_drop=[\"AVG_TEMPERATURE_AIR_2M_F\",\"AVG_TEMPERATURE_HEATINDEX_2M_F\",\"TOT_PRECIPITATION_IN\",\"TOT_SNOWFALL_IN\" ,\"TOT_SNOWDEPTH_IN\" ,\"AVG_CLOUD_COVER_TOT_PCT\" ]\n",
    "new_columns  = [c for c in dropped_df.columns if c not in columns_to_drop]\n",
    "dropped_df = dropped_df.select(*new_columns)"
   ]
  },
  {
   "cell_type": "code",
   "execution_count": 96,
   "id": "16e3773d",
   "metadata": {},
   "outputs": [
    {
     "name": "stdout",
     "output_type": "stream",
     "text": [
      "------------------\n",
      "|\"MENU_TYPE\"     |\n",
      "------------------\n",
      "|Mac & Cheese    |\n",
      "|Sandwiches      |\n",
      "|Crepes          |\n",
      "|BBQ             |\n",
      "|Gyros           |\n",
      "|Ice Cream       |\n",
      "|Chinese         |\n",
      "|Grilled Cheese  |\n",
      "|Hot Dogs        |\n",
      "|Ramen           |\n",
      "------------------\n",
      "\n",
      "Column 'TRUCK_ID': 75\n",
      "Column 'MONTH': 12\n",
      "Column 'HOUR': 16\n",
      "Column 'DOW': 7\n",
      "Column 'DAY': 31\n",
      "Column 'MENU_TYPE': 15\n",
      "Column 'PUBLIC_HOLIDAY': 2\n",
      "Column '\"SUM(ORDER_TOTAL)\"': 48051\n",
      "Column 'LOCATION': 1848\n",
      "Column 'CITY': 5\n",
      "Column 'REGION': 5\n",
      "Column 'LAT': 1878\n",
      "Column 'LONG': 1878\n",
      "Column 'LOCATION_ID': 1878\n",
      "Column 'SUM_DAY_OF_WEEK_AVG_CITY_MENU_TYPE': 79664\n",
      "Column 'SUM_PREV_YEAR_MONTH_SALES_CITY_MENU_TYPE': 1637\n",
      "Column 'YEAR': 3\n",
      "Column 'WEATHERCODE': 13\n"
     ]
    }
   ],
   "source": [
    "def one_hot_encode_columns(df, column_names):\n",
    "    encoded_df = df\n",
    "    \n",
    "    for column_name in column_names:\n",
    "        unique_values = [row[column_name] for row in df.select(column_name).distinct().collect()]\n",
    "        \n",
    "        # Create a new column for each unique value and perform one-hot encoding\n",
    "        for value in unique_values:\n",
    "            encoded_column_name = f\"{column_name}_{value}_encoded\"\n",
    "            encoded_df = encoded_df.withColumn(encoded_column_name, F.when(F.col(column_name) == value, 1).otherwise(0))\n",
    "    \n",
    "    \n",
    "    return encoded_df\n",
    "dropped_df.select(\"menu_type\").distinct().show()\n",
    "\n",
    "columns = dropped_df.columns\n",
    "\n",
    "# Iterate over the columns and count the number of unique values\n",
    "unique_counts = {}\n",
    "for column in columns:\n",
    "    unique_counts[column] = dropped_df.select(column).distinct().count()\n",
    "\n",
    "# Print the unique counts for each column\n",
    "for column, count in unique_counts.items():\n",
    "    print(f\"Column '{column}': {count}\")"
   ]
  },
  {
   "cell_type": "code",
   "execution_count": 97,
   "id": "edfacdff",
   "metadata": {},
   "outputs": [
    {
     "name": "stdout",
     "output_type": "stream",
     "text": [
      "-------------------------------------------------------------------------------------------------------------------------------------------------------------------------------------------------------------------------------------------------------------------------------------------------------------------------------------------------------------------------------------------------------------------------------------------------------------------------------------------------------------------------------------------------------------------------------------------------------------------------------------------------------------------------------------------------------------------------------------------------------------------------------------------------------------------------------------------------------------------------------------------------------------------------------------------------------------------------------------------------------------\n",
      "|\"TRUCK_ID\"  |\"MONTH\"  |\"HOUR\"  |\"DOW\"  |\"DAY\"  |\"PUBLIC_HOLIDAY\"  |\"SUM(ORDER_TOTAL)\"  |\"LOCATION\"     |\"LAT\"              |\"LONG\"              |\"LOCATION_ID\"  |\"SUM_DAY_OF_WEEK_AVG_CITY_MENU_TYPE\"  |\"SUM_PREV_YEAR_MONTH_SALES_CITY_MENU_TYPE\"  |\"YEAR\"  |\"WEATHERCODE\"  |\"MENU_TYPE_BBQ_ENCODED\"  |\"MENU_TYPE_CREPES_ENCODED\"  |\"MENU_TYPE_GYROS_ENCODED\"  |\"MENU_TYPE_Mac & Cheese_encoded\"  |\"MENU_TYPE_SANDWICHES_ENCODED\"  |\"MENU_TYPE_ETHIOPIAN_ENCODED\"  |\"MENU_TYPE_POUTINE_ENCODED\"  |\"MENU_TYPE_TACOS_ENCODED\"  |\"MENU_TYPE_Ice Cream_encoded\"  |\"MENU_TYPE_Hot Dogs_encoded\"  |\"MENU_TYPE_Grilled Cheese_encoded\"  |\"MENU_TYPE_CHINESE_ENCODED\"  |\"MENU_TYPE_VEGETARIAN_ENCODED\"  |\"MENU_TYPE_RAMEN_ENCODED\"  |\"MENU_TYPE_INDIAN_ENCODED\"  |\"CITY_SEATTLE_ENCODED\"  |\"CITY_DENVER_ENCODED\"  |\"CITY_San Mateo_encoded\"  |\"CITY_New York City_encoded\"  |\"CITY_BOSTON_ENCODED\"  |\"REGION_NY_ENCODED\"  |\"REGION_MA_ENCODED\"  |\"REGION_CO_ENCODED\"  |\"REGION_WA_ENCODED\"  |\"REGION_CA_ENCODED\"  |\n",
      "-------------------------------------------------------------------------------------------------------------------------------------------------------------------------------------------------------------------------------------------------------------------------------------------------------------------------------------------------------------------------------------------------------------------------------------------------------------------------------------------------------------------------------------------------------------------------------------------------------------------------------------------------------------------------------------------------------------------------------------------------------------------------------------------------------------------------------------------------------------------------------------------------------------------------------------------------------------------------------------------------------------\n",
      "|71          |5        |15      |4      |13     |0                 |11089.0             |Square Square  |40.71810987277519  |-74.00311967447347  |3726           |35336.6675                            |1554821.8032227783                          |2021    |0              |0                        |0                           |0                          |0                                 |0                               |0                              |1                            |0                          |0                              |0                             |0                                   |0                            |0                               |0                          |0                           |0                       |0                      |0                         |1                             |0                      |1                    |0                    |0                    |0                    |0                    |\n",
      "|71          |5        |16      |4      |13     |0                 |19028.0             |Square Square  |40.71810987277519  |-74.00311967447347  |3726           |35336.6675                            |1554821.8032227783                          |2021    |0              |0                        |0                           |0                          |0                                 |0                               |0                              |1                            |0                          |0                              |0                             |0                                   |0                            |0                               |0                          |0                           |0                       |0                      |0                         |1                             |0                      |1                    |0                    |0                    |0                    |0                    |\n",
      "|71          |5        |17      |4      |13     |0                 |19063.0             |Square Square  |40.71810987277519  |-74.00311967447347  |3726           |35336.6675                            |1554821.8032227783                          |2021    |0              |0                        |0                           |0                          |0                                 |0                               |0                              |1                            |0                          |0                              |0                             |0                                   |0                            |0                               |0                          |0                           |0                       |0                      |0                         |1                             |0                      |1                    |0                    |0                    |0                    |0                    |\n",
      "|71          |5        |18      |4      |13     |0                 |16543.0             |Square Square  |40.71810987277519  |-74.00311967447347  |3726           |35336.6675                            |1554821.8032227783                          |2021    |0              |0                        |0                           |0                          |0                                 |0                               |0                              |1                            |0                          |0                              |0                             |0                                   |0                            |0                               |0                          |0                           |0                       |0                      |0                         |1                             |0                      |1                    |0                    |0                    |0                    |0                    |\n",
      "|71          |5        |19      |4      |13     |0                 |16439.0             |Square Square  |40.71810987277519  |-74.00311967447347  |3726           |35336.6675                            |1554821.8032227783                          |2021    |0              |0                        |0                           |0                          |0                                 |0                               |0                              |1                            |0                          |0                              |0                             |0                                   |0                            |0                               |0                          |0                           |0                       |0                      |0                         |1                             |0                      |1                    |0                    |0                    |0                    |0                    |\n",
      "|71          |5        |20      |4      |13     |0                 |15722.0             |Square Square  |40.71810987277519  |-74.00311967447347  |3726           |35336.6675                            |1554821.8032227783                          |2021    |1              |0                        |0                           |0                          |0                                 |0                               |0                              |1                            |0                          |0                              |0                             |0                                   |0                            |0                               |0                          |0                           |0                       |0                      |0                         |1                             |0                      |1                    |0                    |0                    |0                    |0                    |\n",
      "|71          |5        |21      |4      |13     |0                 |17206.0             |Square Square  |40.71810987277519  |-74.00311967447347  |3726           |35336.6675                            |1554821.8032227783                          |2021    |1              |0                        |0                           |0                          |0                                 |0                               |0                              |1                            |0                          |0                              |0                             |0                                   |0                            |0                               |0                          |0                           |0                       |0                      |0                         |1                             |0                      |1                    |0                    |0                    |0                    |0                    |\n",
      "|71          |5        |22      |4      |13     |0                 |6821.0              |Square Square  |40.71810987277519  |-74.00311967447347  |3726           |35336.6675                            |1554821.8032227783                          |2021    |0              |0                        |0                           |0                          |0                                 |0                               |0                              |1                            |0                          |0                              |0                             |0                                   |0                            |0                               |0                          |0                           |0                       |0                      |0                         |1                             |0                      |1                    |0                    |0                    |0                    |0                    |\n",
      "|70          |5        |15      |3      |26     |0                 |8362.0              |Square Square  |40.71810987277519  |-74.00311967447347  |3726           |25536.21386                           |1554821.8032227783                          |2021    |0              |0                        |0                           |0                          |0                                 |0                               |0                              |0                            |0                          |0                              |1                             |0                                   |0                            |0                               |0                          |0                           |0                       |0                      |0                         |1                             |0                      |1                    |0                    |0                    |0                    |0                    |\n",
      "|70          |5        |16      |3      |26     |0                 |12284.0             |Square Square  |40.71810987277519  |-74.00311967447347  |3726           |25536.21386                           |1554821.8032227783                          |2021    |0              |0                        |0                           |0                          |0                                 |0                               |0                              |0                            |0                          |0                              |1                             |0                                   |0                            |0                               |0                          |0                           |0                       |0                      |0                         |1                             |0                      |1                    |0                    |0                    |0                    |0                    |\n",
      "-------------------------------------------------------------------------------------------------------------------------------------------------------------------------------------------------------------------------------------------------------------------------------------------------------------------------------------------------------------------------------------------------------------------------------------------------------------------------------------------------------------------------------------------------------------------------------------------------------------------------------------------------------------------------------------------------------------------------------------------------------------------------------------------------------------------------------------------------------------------------------------------------------------------------------------------------------------------------------------------------------------\n",
      "\n"
     ]
    }
   ],
   "source": [
    "categoricalColumns = ['MENU_TYPE', 'CITY', 'REGION']\n",
    "encoded_df = one_hot_encode_columns(dropped_df, categoricalColumns)\n",
    "final_df = encoded_df.drop(*categoricalColumns)\n",
    "final_df.show()"
   ]
  },
  {
   "cell_type": "code",
   "execution_count": 104,
   "id": "f41f52bb",
   "metadata": {},
   "outputs": [],
   "source": [
    "# final_df=final_df.to_pandas()\n",
    "final_df=final_df.drop(\"LOCATION\",axis=1)"
   ]
  },
  {
   "cell_type": "code",
   "execution_count": 109,
   "id": "56fa7655",
   "metadata": {},
   "outputs": [],
   "source": [
    "columns_not_to_scale=[\"TRUCK_ID\",\"MONTH\",\"HOUR\",\"DOW\",\"DAY\",\"PUBLIC_HOLIDAY\",\"LOCATION_ID\",\"LAT\",\"LONG\",\"SUM(ORDER_TOTAL)\",\"YEAR\"]     \n",
    "\n",
    "cat_col = [i for i in final_df.columns if i not in columns_not_to_scale and  (i[:4] not in [\"CITY\",\"REGI\",\"MENU\"])]\n",
    "\n",
    "cat_col.remove(\"WEATHERCODE\")\n",
    "from sklearn.preprocessing import StandardScaler\n",
    "X_final_scaled=final_df.copy()\n",
    "X_final_scaled[cat_col] = StandardScaler().fit_transform(final_df[cat_col])"
   ]
  },
  {
   "cell_type": "code",
   "execution_count": 110,
   "id": "67e68fd3",
   "metadata": {},
   "outputs": [
    {
     "data": {
      "text/plain": [
       "0         2020\n",
       "1         2020\n",
       "2         2020\n",
       "3         2020\n",
       "4         2020\n",
       "          ... \n",
       "540196    2020\n",
       "540197    2020\n",
       "540198    2020\n",
       "540199    2020\n",
       "540200    2020\n",
       "Name: YEAR, Length: 540201, dtype: int16"
      ]
     },
     "execution_count": 110,
     "metadata": {},
     "output_type": "execute_result"
    }
   ],
   "source": [
    "X_final_scaled[\"YEAR\"]"
   ]
  },
  {
   "cell_type": "code",
   "execution_count": 14,
   "id": "352f7d9f",
   "metadata": {},
   "outputs": [],
   "source": [
    "from xgboost import XGBRegressor"
   ]
  },
  {
   "cell_type": "code",
   "execution_count": 14,
   "id": "9af40292",
   "metadata": {},
   "outputs": [],
   "source": [
    "algo_df = session.table('ROUTING.\"ALGO_DATA(With Year)\"')"
   ]
  },
  {
   "cell_type": "code",
   "execution_count": 18,
   "id": "616e7ee8",
   "metadata": {},
   "outputs": [
    {
     "data": {
      "text/plain": [
       "75"
      ]
     },
     "execution_count": 18,
     "metadata": {},
     "output_type": "execute_result"
    }
   ],
   "source": [
    "algo_df.select(\"TRUCK_ID\").distinct().count()"
   ]
  },
  {
   "cell_type": "code",
   "execution_count": 19,
   "id": "8f2c5c23",
   "metadata": {},
   "outputs": [
    {
     "ename": "EOFError",
     "evalue": "",
     "output_type": "error",
     "traceback": [
      "\u001b[1;31m---------------------------------------------------------------------------\u001b[0m",
      "\u001b[1;31mEOFError\u001b[0m                                  Traceback (most recent call last)",
      "Cell \u001b[1;32mIn[19], line 1\u001b[0m\n\u001b[1;32m----> 1\u001b[0m model \u001b[39m=\u001b[39m joblib\u001b[39m.\u001b[39;49mload(\u001b[39mopen\u001b[39;49m(\u001b[39m'\u001b[39;49m\u001b[39mmodel.joblib\u001b[39;49m\u001b[39m'\u001b[39;49m,\u001b[39m\"\u001b[39;49m\u001b[39mrb\u001b[39;49m\u001b[39m\"\u001b[39;49m))\n",
      "File \u001b[1;32mc:\\Users\\vibu\\anaconda\\envs\\pysnowpark\\lib\\site-packages\\joblib\\numpy_pickle.py:648\u001b[0m, in \u001b[0;36mload\u001b[1;34m(filename, mmap_mode)\u001b[0m\n\u001b[0;32m    646\u001b[0m     filename \u001b[39m=\u001b[39m \u001b[39mgetattr\u001b[39m(fobj, \u001b[39m'\u001b[39m\u001b[39mname\u001b[39m\u001b[39m'\u001b[39m, \u001b[39m'\u001b[39m\u001b[39m'\u001b[39m)\n\u001b[0;32m    647\u001b[0m     \u001b[39mwith\u001b[39;00m _read_fileobject(fobj, filename, mmap_mode) \u001b[39mas\u001b[39;00m fobj:\n\u001b[1;32m--> 648\u001b[0m         obj \u001b[39m=\u001b[39m _unpickle(fobj)\n\u001b[0;32m    649\u001b[0m \u001b[39melse\u001b[39;00m:\n\u001b[0;32m    650\u001b[0m     \u001b[39mwith\u001b[39;00m \u001b[39mopen\u001b[39m(filename, \u001b[39m'\u001b[39m\u001b[39mrb\u001b[39m\u001b[39m'\u001b[39m) \u001b[39mas\u001b[39;00m f:\n",
      "File \u001b[1;32mc:\\Users\\vibu\\anaconda\\envs\\pysnowpark\\lib\\site-packages\\joblib\\numpy_pickle.py:577\u001b[0m, in \u001b[0;36m_unpickle\u001b[1;34m(fobj, filename, mmap_mode)\u001b[0m\n\u001b[0;32m    575\u001b[0m obj \u001b[39m=\u001b[39m \u001b[39mNone\u001b[39;00m\n\u001b[0;32m    576\u001b[0m \u001b[39mtry\u001b[39;00m:\n\u001b[1;32m--> 577\u001b[0m     obj \u001b[39m=\u001b[39m unpickler\u001b[39m.\u001b[39;49mload()\n\u001b[0;32m    578\u001b[0m     \u001b[39mif\u001b[39;00m unpickler\u001b[39m.\u001b[39mcompat_mode:\n\u001b[0;32m    579\u001b[0m         warnings\u001b[39m.\u001b[39mwarn(\u001b[39m\"\u001b[39m\u001b[39mThe file \u001b[39m\u001b[39m'\u001b[39m\u001b[39m%s\u001b[39;00m\u001b[39m'\u001b[39m\u001b[39m has been generated with a \u001b[39m\u001b[39m\"\u001b[39m\n\u001b[0;32m    580\u001b[0m                       \u001b[39m\"\u001b[39m\u001b[39mjoblib version less than 0.10. \u001b[39m\u001b[39m\"\u001b[39m\n\u001b[0;32m    581\u001b[0m                       \u001b[39m\"\u001b[39m\u001b[39mPlease regenerate this pickle file.\u001b[39m\u001b[39m\"\u001b[39m\n\u001b[0;32m    582\u001b[0m                       \u001b[39m%\u001b[39m filename,\n\u001b[0;32m    583\u001b[0m                       \u001b[39mDeprecationWarning\u001b[39;00m, stacklevel\u001b[39m=\u001b[39m\u001b[39m3\u001b[39m)\n",
      "File \u001b[1;32mc:\\Users\\vibu\\anaconda\\envs\\pysnowpark\\lib\\pickle.py:1210\u001b[0m, in \u001b[0;36m_Unpickler.load\u001b[1;34m(self)\u001b[0m\n\u001b[0;32m   1208\u001b[0m key \u001b[39m=\u001b[39m read(\u001b[39m1\u001b[39m)\n\u001b[0;32m   1209\u001b[0m \u001b[39mif\u001b[39;00m \u001b[39mnot\u001b[39;00m key:\n\u001b[1;32m-> 1210\u001b[0m     \u001b[39mraise\u001b[39;00m \u001b[39mEOFError\u001b[39;00m\n\u001b[0;32m   1211\u001b[0m \u001b[39massert\u001b[39;00m \u001b[39misinstance\u001b[39m(key, bytes_types)\n\u001b[0;32m   1212\u001b[0m dispatch[key[\u001b[39m0\u001b[39m]](\u001b[39mself\u001b[39m)\n",
      "\u001b[1;31mEOFError\u001b[0m: "
     ]
    }
   ],
   "source": [
    "model = joblib.load(open('model.joblib',\"rb\"))"
   ]
  },
  {
   "cell_type": "code",
   "execution_count": null,
   "id": "4eb3accd",
   "metadata": {},
   "outputs": [],
   "source": []
  }
 ],
 "metadata": {
  "kernelspec": {
   "display_name": "Python 3 (ipykernel)",
   "language": "python",
   "name": "python3"
  },
  "language_info": {
   "codemirror_mode": {
    "name": "ipython",
    "version": 3
   },
   "file_extension": ".py",
   "mimetype": "text/x-python",
   "name": "python",
   "nbconvert_exporter": "python",
   "pygments_lexer": "ipython3",
   "version": "3.8.17"
  }
 },
 "nbformat": 4,
 "nbformat_minor": 5
}
