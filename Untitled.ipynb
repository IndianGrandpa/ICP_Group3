{
 "cells": [
  {
   "cell_type": "code",
   "execution_count": 2,
   "id": "3d605b3f",
   "metadata": {},
   "outputs": [],
   "source": [
    "import pandas as pd"
   ]
  },
  {
   "cell_type": "code",
   "execution_count": 45,
   "id": "c59ecbf7",
   "metadata": {},
   "outputs": [],
   "source": [
    "df= pd.read_csv('truck_location_df.csv')\n",
    "df['Date'] = pd.to_datetime(df['Date'])\n",
    "df[\"Date\"]=pd.to_datetime(df['Date'], format='%d/%m/%Y')\n",
    "\n",
    "# Sort the DataFrame by Date\n",
    "df.sort_values(by='Date', inplace=True)\n",
    "# Sort the DataFrame by Date\n"
   ]
  },
  {
   "cell_type": "code",
   "execution_count": 46,
   "id": "274a3429",
   "metadata": {},
   "outputs": [],
   "source": [
    "df[\"Date\"]=pd.to_datetime(df['Date'], format='%d/%m/%Y')\n",
    "\n",
    "# Sort the DataFrame by Date\n",
    "df.sort_values(by='Date', inplace=True)"
   ]
  },
  {
   "cell_type": "code",
   "execution_count": 47,
   "id": "23dbf290",
   "metadata": {},
   "outputs": [],
   "source": [
    "df['predicted_earning'] = df['predicted_earning'].apply(lambda x: [int(float(i)) for i in x.strip('[]').split(',')])\n",
    "df['predicted_earning'].apply(lambda x: sum(x)).sum()\n"
   ]
  },
  {
   "cell_type": "code",
   "execution_count": 48,
   "id": "71634928",
   "metadata": {},
   "outputs": [
    {
     "data": {
      "text/plain": [
       "0                    [159078, 138177]\n",
       "1              [104917, 71965, 99176]\n",
       "2             [110745, 64369, 124440]\n",
       "3             [77580, 126884, 105692]\n",
       "4                    [162776, 161872]\n",
       "5    [264668, 154634, 295421, 149114]\n",
       "Name: predicted_earning, dtype: object"
      ]
     },
     "execution_count": 48,
     "metadata": {},
     "output_type": "execute_result"
    }
   ],
   "source": [
    "df[\"predicted_earning\"]"
   ]
  },
  {
   "cell_type": "code",
   "execution_count": 49,
   "id": "316a70b1",
   "metadata": {
    "scrolled": true
   },
   "outputs": [
    {
     "data": {
      "text/plain": [
       "2371508"
      ]
     },
     "execution_count": 49,
     "metadata": {},
     "output_type": "execute_result"
    }
   ],
   "source": [
    "df['predicted_earning'].apply(lambda x: sum(x)).sum()"
   ]
  },
  {
   "cell_type": "code",
   "execution_count": null,
   "id": "d1909d19",
   "metadata": {},
   "outputs": [],
   "source": []
  }
 ],
 "metadata": {
  "kernelspec": {
   "display_name": "Python 3 (ipykernel)",
   "language": "python",
   "name": "python3"
  },
  "language_info": {
   "codemirror_mode": {
    "name": "ipython",
    "version": 3
   },
   "file_extension": ".py",
   "mimetype": "text/x-python",
   "name": "python",
   "nbconvert_exporter": "python",
   "pygments_lexer": "ipython3",
   "version": "3.9.7"
  }
 },
 "nbformat": 4,
 "nbformat_minor": 5
}
